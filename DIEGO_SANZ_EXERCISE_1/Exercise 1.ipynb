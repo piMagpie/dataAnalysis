{
 "cells": [
  {
   "cell_type": "code",
   "execution_count": 48,
   "metadata": {},
   "outputs": [],
   "source": [
    "'''\n",
    "Created on Jan 15, 2019\n",
    "\n",
    "Some part of the code is based on this tutorial:\n",
    "Tutorial To Implement k-Nearest Neighbors in Python From Scratch\n",
    "(https://machinelearningmastery.com/tutorial-to-implement-k-nearest-neighbors-in-python-from-scratch/)\n",
    "\n",
    "@author: Diego Sanz Villafruela\n",
    "'''\n",
    "import csv\n",
    "import random\n",
    "import math\n",
    "import operator"
   ]
  },
  {
   "cell_type": "code",
   "execution_count": 49,
   "metadata": {
    "collapsed": true,
    "scrolled": true
   },
   "outputs": [],
   "source": [
    "\"\"\"\n",
    "Gets samples from CSV file.\n",
    "\"\"\"                \n",
    "def getSamples(filename, samples=[]):\n",
    "    samples = []\n",
    "    with open(filename) as f:\n",
    "        for line in f.readlines():\n",
    "            line = line.rstrip(\"\\n\\r\")\n",
    "            sample = []\n",
    "            counter = 0\n",
    "            for value in line.split(\",\"):\n",
    "                if counter < 4: # numeric values\n",
    "                    sample.append(float(value))\n",
    "                    counter += 1\n",
    "                else: # type of iris\n",
    "                    sample.append(value)\n",
    "            samples.append(sample)\n",
    "    return samples"
   ]
  },
  {
   "cell_type": "code",
   "execution_count": 56,
   "metadata": {},
   "outputs": [],
   "source": [
    "\"\"\"\n",
    "Calculates the Ecludean distance between 2 samples.\n",
    "\"\"\"\n",
    "def euclideanDistance(instance1, instance2, length):\n",
    "    distance = 0\n",
    "    for propertyIndex in range(length):\n",
    "        distance += pow((instance1[propertyIndex] - instance2[propertyIndex]), 2)\n",
    "    return math.sqrt(distance)\n",
    "\n",
    "\"\"\"\n",
    "Gets the k closest neighbors from the trainingSet. \n",
    "\"\"\"\n",
    "def getNeighbors(trainingSet, testInstance, k):\n",
    "    distances = []\n",
    "    length = len(testInstance)-1\n",
    "    for x in range(len(trainingSet)):\n",
    "        dist = euclideanDistance(testInstance, trainingSet[x], length)\n",
    "        distances.append((trainingSet[x], dist))\n",
    "    distances.sort(key=operator.itemgetter(1))\n",
    "    \n",
    "    return list(map(lambda neighbor : neighbor[0], distances[:k]))\n",
    "   \n",
    "\"\"\"\n",
    "Classifies the type accordinly to the number of neighbors.\n",
    "\"\"\"\n",
    "def getResponse(neighbors):        \n",
    "    classVotes = {}\n",
    "    for neighbor in neighbors:\n",
    "        response = neighbor[-1]\n",
    "        if response in classVotes:\n",
    "            classVotes[response] += 1\n",
    "        else:\n",
    "            classVotes[response] = 1\n",
    "            \n",
    "    return max(classVotes.items(), key=operator.itemgetter(1))[0]\n",
    "\n",
    "\"\"\"\n",
    "Gets the global accuracy taking into account all the predictions.\n",
    "\"\"\"\n",
    "def getAccuracy(testSet, predictions):\n",
    "    correct = 0\n",
    "    for x in range(len(testSet)):\n",
    "        if testSet[x][-1] == predictions[x]:\n",
    "            correct += 1\n",
    "    return (correct/float(len(testSet))) * 100.0\n",
    "\n",
    "\"\"\"\n",
    "Calculates the accuracy of a kNearestNeighbors classifier.\n",
    "\"\"\"\n",
    "def kNearestNeighbors(trainingData, testData, k = 1):\n",
    "    \n",
    "    predictions = []\n",
    "    for testInstance in testData:\n",
    "        neighbors = getNeighbors(trainingData, testInstance, k)\n",
    "        \n",
    "        prediction = getResponse(neighbors)\n",
    "        \n",
    "        predictions.append(prediction)\n",
    "    \n",
    "    return getAccuracy(testData, predictions)\n",
    "    \n",
    "    "
   ]
  },
  {
   "cell_type": "code",
   "execution_count": 69,
   "metadata": {
    "collapsed": true
   },
   "outputs": [],
   "source": [
    "\"\"\"\n",
    "Evaluation of the predictionPerformance using crossValidation.\n",
    "\n",
    "samples: independent data set\n",
    "\"\"\"\n",
    "def crossValidation(samples, foldSize, predictionMethod, neighborNumber = 1):\n",
    "    \n",
    "    k = len(samples) // foldSize\n",
    "\n",
    "    sumAccuracy = 0\n",
    "\n",
    "    for fold in range(0,k):\n",
    "        beginningFold = fold * foldSize\n",
    "        endFold = beginningFold + foldSize\n",
    "    \n",
    "        trainingData = samples[:beginningFold] + samples[endFold:]\n",
    "        testData = samples[beginningFold:endFold]\n",
    "    \n",
    "        # get the accuracy of the prediction for that testData\n",
    "        iterationAccuracy = predictionMethod(trainingData,testData,neighborNumber)\n",
    "    \n",
    "        sumAccuracy += iterationAccuracy\n",
    "    \n",
    "    return sumAccuracy / k"
   ]
  },
  {
   "cell_type": "code",
   "execution_count": 75,
   "metadata": {
    "scrolled": true
   },
   "outputs": [
    {
     "data": {
      "text/plain": [
       "96.0"
      ]
     },
     "execution_count": 75,
     "metadata": {},
     "output_type": "execute_result"
    }
   ],
   "source": [
    "samples = getSamples(r\"iris.data.txt\")\n",
    "foldSize = 1\n",
    "neighborNumber = 1\n",
    "crossValidation(samples, foldSize, kNearestNeighbors, neighborNumber)"
   ]
  },
  {
   "cell_type": "code",
   "execution_count": 73,
   "metadata": {},
   "outputs": [
    {
     "name": "stdout",
     "output_type": "stream",
     "text": [
      "MaxFold: 39 = 96.58119658119658\n"
     ]
    }
   ],
   "source": [
    "\"\"\"\n",
    "Which crossValidation gives the best Accuracy.\n",
    "\"\"\"\n",
    "maxAccuracy = -1\n",
    "maxFold = -1\n",
    "for fold in range(1,len(samples)-1):\n",
    "    accuracy = crossValidation(samples, fold, kNearestNeighbors)\n",
    "    if accuracy > maxAccuracy:\n",
    "        maxFold = fold\n",
    "        maxAccuracy = accuracy\n",
    "\n",
    "print (\"MaxFold: \" + str(maxFold) + \" = \" + str(maxAccuracy))"
   ]
  },
  {
   "cell_type": "code",
   "execution_count": 76,
   "metadata": {},
   "outputs": [
    {
     "name": "stdout",
     "output_type": "stream",
     "text": [
      "NeighborNumber: 19 = 98.0\n"
     ]
    }
   ],
   "source": [
    "\"\"\"\n",
    "Which k-neighbor gives the best Accuracy.\n",
    "\"\"\"\n",
    "maxAccuracy = -1\n",
    "maxNeighbor = -1\n",
    "foldSize = 1\n",
    "\n",
    "for neighbor in range(1,len(samples)-1):\n",
    "    accuracy = crossValidation(samples, foldSize, kNearestNeighbors, neighbor)\n",
    "    if accuracy > maxAccuracy:\n",
    "        maxNeighbor = neighbor\n",
    "        maxAccuracy = accuracy\n",
    "\n",
    "print (\"NeighborNumber: \" + str(maxNeighbor) + \" = \" + str(maxAccuracy))"
   ]
  },
  {
   "cell_type": "code",
   "execution_count": null,
   "metadata": {
    "collapsed": true
   },
   "outputs": [],
   "source": []
  }
 ],
 "metadata": {
  "kernelspec": {
   "display_name": "Python 3",
   "language": "python",
   "name": "python3"
  },
  "language_info": {
   "codemirror_mode": {
    "name": "ipython",
    "version": 3
   },
   "file_extension": ".py",
   "mimetype": "text/x-python",
   "name": "python",
   "nbconvert_exporter": "python",
   "pygments_lexer": "ipython3",
   "version": "3.6.1"
  }
 },
 "nbformat": 4,
 "nbformat_minor": 2
}
