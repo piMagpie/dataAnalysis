{
 "cells": [
  {
   "cell_type": "code",
   "execution_count": 27,
   "metadata": {
    "collapsed": true
   },
   "outputs": [],
   "source": [
    "'''\n",
    "Created on Jan 22, 2019\n",
    "\n",
    "Some part of the code is based on this tutorial:\n",
    "Tutorial To Implement k-Nearest Neighbors in Python From Scratch\n",
    "(https://machinelearningmastery.com/tutorial-to-implement-k-nearest-neighbors-in-python-from-scratch/)\n",
    "\n",
    "@author: Diego Sanz Villafruela\n",
    "'''\n",
    "import csv\n",
    "import random\n",
    "import math\n",
    "import operator\n",
    "import numpy as np\n",
    "from sklearn import preprocessing\n",
    "from sklearn import neighbors"
   ]
  },
  {
   "cell_type": "code",
   "execution_count": 28,
   "metadata": {},
   "outputs": [
    {
     "name": "stdout",
     "output_type": "stream",
     "text": [
      "7.5\n",
      "3.0\n"
     ]
    }
   ],
   "source": [
    "\"\"\"\n",
    "Converting from one scale to another scale.\n",
    "\"\"\"\n",
    "def convertRange(x,a,b,c,d):\n",
    "    return c + ((d-c)/(b-a) ) * (x - a)\n",
    "\n",
    "print(convertRange(3,2,4,5,10))\n",
    "print(convertRange(7.5,5,10,2,4))"
   ]
  },
  {
   "cell_type": "markdown",
   "metadata": {},
   "source": [
    "# C-index\n"
   ]
  },
  {
   "cell_type": "code",
   "execution_count": 29,
   "metadata": {},
   "outputs": [
    {
     "name": "stdout",
     "output_type": "stream",
     "text": [
      "CIndex  0.75\n"
     ]
    }
   ],
   "source": [
    "\"\"\"\n",
    "Performance measure that indicates how well the model captures the relative ordering/ranking\n",
    "of the data points.\n",
    "C-index is measured from 0 to 1, with 0.5 meaning the model wasn't able to capture any information\n",
    "from the data.\n",
    "\"\"\"\n",
    "def getCIndex(labels, predictions):\n",
    "    if labels is None or predictions is None:\n",
    "        raise Exception(\"Illegal argument exception\")\n",
    "    if len(labels) != len(predictions):\n",
    "        raise Exception(\"The number of labels is not the same to the number of predictions\")\n",
    "        \n",
    "    size = len(labels)\n",
    "    h_num = 0\n",
    "    n = 0\n",
    "    for i in range(size):\n",
    "        li = labels[i]\n",
    "        pi = predictions[i]\n",
    "        for j in range(i+1,size):\n",
    "            lj = labels[j]\n",
    "            pj = predictions[j]\n",
    "            if ( li != lj):\n",
    "                n += 1\n",
    "                if (pi < pj and li < lj) or (pi > pj and li > lj):\n",
    "                    h_num += 1\n",
    "                elif pi == pj:\n",
    "                    h_num += 0.5 # -1 0.5 1\n",
    "    return h_num/n\n",
    "\n",
    "labels = [-1, 1, 1, -1, 1]\n",
    "predictions =  [0.60, 0.80, 0.75, 0.75, 0.70]\n",
    "\n",
    "print ( \"CIndex \", getCIndex(labels,predictions))"
   ]
  },
  {
   "cell_type": "markdown",
   "metadata": {},
   "source": [
    "# Getting data set from File"
   ]
  },
  {
   "cell_type": "code",
   "execution_count": 30,
   "metadata": {
    "scrolled": true
   },
   "outputs": [
    {
     "name": "stdout",
     "output_type": "stream",
     "text": [
      "[[  0.00000000e+00   0.00000000e+00   0.00000000e+00  -9.71720942e-01\n",
      "   -6.69818294e-01  -3.35076304e-01]\n",
      " [  0.00000000e+00   0.00000000e+00   0.00000000e+00  -9.63093411e-01\n",
      "   -6.69990860e-01  -1.60829666e-01]\n",
      " [  0.00000000e+00   0.00000000e+00   0.00000000e+00  -9.62826686e-01\n",
      "   -6.69732011e-01   9.48750650e-02]\n",
      " ..., \n",
      " [  5.00000000e+03   5.00000000e+03   0.00000000e+00  -8.41559099e-01\n",
      "   -2.89482626e-01   5.67577607e-01]\n",
      " [  5.00000000e+03   5.00000000e+03   0.00000000e+00  -8.41333408e-01\n",
      "   -2.94659608e-01   8.41407787e-01]\n",
      " [  5.00000000e+03   5.00000000e+03   0.00000000e+00  -8.34398556e-01\n",
      "   -3.14159577e-01   7.77796794e-01]]\n"
     ]
    }
   ],
   "source": [
    "\"\"\"\n",
    "Gets samples from CSV file.\n",
    "\"\"\"                \n",
    "def getSamples(filename):\n",
    "    samples = []\n",
    "    with open(filename) as f:\n",
    "        linesIter = iter(f.readlines())\n",
    "\n",
    "        next(linesIter) # c_total,Cd,Pb,Mod1,Mod2,Mod3\n",
    "        for line in linesIter:\n",
    "            line = line.rstrip(\"\\n\\r\")\n",
    "            sample = []\n",
    "            for value in line.split(\",\"):\n",
    "                sample.append(float(value)) \n",
    "            samples.append(sample)\n",
    "    return samples\n",
    "\n",
    "\"\"\"\n",
    "The data is normalized using z-score = (x - Mean) / Standard deviation\n",
    "\"\"\"\n",
    "def getNormalizedSamples(filename):\n",
    "    samples = getSamples(r\"Water_data.csv\")\n",
    "    samples = np.array(samples)\n",
    "    \n",
    "    mod1 = preprocessing.scale(samples[:,3:4])\n",
    "    mod2 = preprocessing.scale(samples[:,4:5])\n",
    "    mod3 = preprocessing.scale(samples[:,5:6])\n",
    "\n",
    "    samples[:,3:4] = mod1\n",
    "    samples[:,4:5] = mod2\n",
    "    samples[:,5:6] = mod3\n",
    "    \n",
    "    return samples\n",
    "\n",
    "\n",
    "samples = getNormalizedSamples(r\"Water_data.csv\")\n",
    "\n",
    "print (samples)\n",
    "\n"
   ]
  },
  {
   "cell_type": "markdown",
   "metadata": {},
   "source": [
    "# Standardization\n",
    "\n",
    "When independent variables in training data are measured in different units, it is important to standardize variables before calculating distance. For example, if one variable is based on height in cms, and the other is based on weight in kgs, then height will influence more on the distance calculation.\n"
   ]
  },
  {
   "cell_type": "code",
   "execution_count": 31,
   "metadata": {},
   "outputs": [
    {
     "name": "stdout",
     "output_type": "stream",
     "text": [
      "{'c_total': [25.199999999999999, 39.600000000000001], 'Cd': [9.5199999999999996, 2.2399999999999998], 'Pb': [15.680000000000001, 37.359999999999999]}\n",
      "-----\n",
      "{'c_total': [25.199999999999999, 39.600000000000001], 'Cd': [9.5199999999999996, 2.2399999999999998], 'Pb': [15.680000000000001, 37.359999999999999]}\n"
     ]
    }
   ],
   "source": [
    "\"\"\"\n",
    "Calculates the Ecludean distance between 2 samples. \n",
    "It is mainly used when data is continuous.\n",
    "Note:\n",
    "Discrete data can only take particular values whereas Continuous data are not restricted\n",
    "to defined separate values, but can occupy any value over a continuous range.\n",
    "\"\"\"\n",
    "def euclideanDistance(instance1, instance2, origin, end):\n",
    "    distance = 0\n",
    "    for propertyIndex in range(origin, end):\n",
    "        distance += pow((instance1[propertyIndex] - instance2[propertyIndex]), 2)\n",
    "    return math.sqrt(distance)\n",
    "\n",
    "\"\"\"\n",
    "Gets the k closest neighbors from the trainingSet. \n",
    "\"\"\"\n",
    "def getNeighbors(trainingSet, testInstance, k):\n",
    "    distances = []\n",
    "    origin = 3\n",
    "    end = len(testInstance)\n",
    "    for x in range(len(trainingSet)):\n",
    "        dist = euclideanDistance(testInstance, trainingSet[x], origin, end)\n",
    "        distances.append((trainingSet[x], dist))\n",
    "    distances.sort(key=operator.itemgetter(1))\n",
    "    \n",
    "    return list(map(lambda neighbor : neighbor[0], distances[:k]))\n",
    "\n",
    "def getResponse(neighbors):\n",
    "    length = len(neighbors)\n",
    "    if length == 0:\n",
    "        raise Exception(\"The number of elements is 0\")\n",
    "        \n",
    "    c_total = 0\n",
    "    Cd = 0\n",
    "    Pb = 0\n",
    "    for neighbor in neighbors:\n",
    "        c_total += neighbor[0]\n",
    "        Cd += neighbor[1]\n",
    "        Pb += neighbor[2]\n",
    "    \n",
    "    return {\"c_total\": c_total/length, \"Cd\" : Cd/length, \"Pb\" : Pb/length}\n",
    "    \n",
    "\"\"\"\n",
    "Calculates the accuracy of a kNearestNeighbors classifier.\n",
    "\"\"\"\n",
    "def kNearestNeighbors(trainingData, testData, k = 1):\n",
    "    if k > len(trainingData):\n",
    "        raise Exception(\"Elements are less than k: {}\".format(k))\n",
    "        \n",
    "    predictions = {\"c_total\" : [], \"Cd\" : [], \"Pb\" : []}\n",
    "    for testInstance in testData:\n",
    "        neighbors = getNeighbors(trainingData, testInstance, k)\n",
    "        \n",
    "        response = getResponse(neighbors)\n",
    "        \n",
    "        predictions[\"c_total\"].append(response[\"c_total\"])\n",
    "        predictions[\"Cd\"].append(response[\"Cd\"])\n",
    "        predictions[\"Pb\"].append(response[\"Pb\"])\n",
    "        \n",
    "    return predictions\n",
    "    \n",
    "def scikit_kNearestNeighbors(trainingData, testData, k = 1):\n",
    "    inputValues = trainingData[:, 3:]\n",
    "    outputValues = trainingData[:, 0:3]\n",
    "\n",
    "    knn = neighbors.KNeighborsRegressor(k, weights='uniform')\n",
    "    predictions = knn.fit(inputValues, outputValues).predict(testData[:, 3:])\n",
    "    \n",
    "    return {\"c_total\" : list(predictions[:,0]), \"Cd\" : list(predictions[:,1]), \"Pb\" : list(predictions[:,2])}\n",
    "\n",
    "samples = getNormalizedSamples(r\"Water_data.csv\")\n",
    "\n",
    "    \n",
    "trainingData = samples[2:]\n",
    "testData = samples[:2]\n",
    "\n",
    "print (kNearestNeighbors (trainingData, testData, 5))\n",
    "print(\"-----\")\n",
    "print(scikit_kNearestNeighbors(trainingData, testData, 5))"
   ]
  },
  {
   "cell_type": "code",
   "execution_count": 32,
   "metadata": {
    "collapsed": true
   },
   "outputs": [],
   "source": [
    "\"\"\"\n",
    "Evaluation of the predictionPerformance using crossValidation.\n",
    "\n",
    "samples: independent data set\n",
    "\"\"\"\n",
    "def crossValidation(samples, foldSize, predictionMethod, neighborNumber = 1):\n",
    "    k = len(samples) // foldSize\n",
    "\n",
    "    sumAvgCIndexes = 0\n",
    "    \n",
    "    predictions = {\"c_total\" : [], \"Cd\" : [], \"Pb\" : []}\n",
    "    labels = {\"c_total\" : [], \"Cd\" : [], \"Pb\" : []}\n",
    "    \n",
    "    for fold in range(0,k):\n",
    "        beginningFold = fold * foldSize\n",
    "        endFold = beginningFold + foldSize\n",
    "    \n",
    "        trainingData = np.concatenate((samples[:beginningFold],samples[endFold:]),axis=0)\n",
    "        testData = samples[beginningFold:endFold]\n",
    "    \n",
    "        # predictions\n",
    "        c_total, Cd, Pb = predictionMethod(trainingData,testData,neighborNumber).values()\n",
    "\n",
    "        predictions[\"c_total\"].extend(c_total)\n",
    "        predictions[\"Cd\"].extend(Cd)\n",
    "        predictions[\"Pb\"].extend(Pb)\n",
    "        \n",
    "        # labels\n",
    "        labels[\"c_total\"].extend(testData[:,0])\n",
    "        labels[\"Cd\"].extend(testData[:,1])\n",
    "        labels[\"Pb\"].extend(testData[:,2])\n",
    "        \n",
    "    # c-indexes\n",
    "    c_totalIndex = getCIndex(labels[\"c_total\"],  predictions[\"c_total\"])\n",
    "    CdIndex = getCIndex(labels[\"Cd\"],  predictions[\"Cd\"])\n",
    "    PbIndex = getCIndex(labels[\"Pb\"], predictions[\"Pb\"])\n",
    "    \n",
    "    return np.array([c_totalIndex, CdIndex, PbIndex])"
   ]
  },
  {
   "cell_type": "code",
   "execution_count": 33,
   "metadata": {
    "scrolled": true
   },
   "outputs": [
    {
     "data": {
      "text/plain": [
       "array([ 0.81500489,  0.74102846,  0.73626805])"
      ]
     },
     "execution_count": 33,
     "metadata": {},
     "output_type": "execute_result"
    }
   ],
   "source": [
    "samples = getNormalizedSamples(r\"Water_data.csv\")\n",
    "foldSize = 3\n",
    "neighborNumber = 1\n",
    "crossValidation(samples, foldSize, kNearestNeighbors, neighborNumber)"
   ]
  },
  {
   "cell_type": "code",
   "execution_count": 34,
   "metadata": {},
   "outputs": [
    {
     "name": "stdout",
     "output_type": "stream",
     "text": [
      "Fold: 1  NeighborNumber: 1 = [ 0.89866406  0.90058067  0.86636849]  mean = 0.8885377374989184\n",
      "Fold: 1  NeighborNumber: 2 = [ 0.90561529  0.90262084  0.87238439]  mean = 0.8935401746439958\n",
      "Fold: 1  NeighborNumber: 3 = [ 0.90360595  0.87769408  0.84947165]  mean = 0.87692389234671\n",
      "Fold: 1  NeighborNumber: 4 = [ 0.89195721  0.85159029  0.84507742]  mean = 0.8628749731279953\n",
      "Fold: 1  NeighborNumber: 5 = [ 0.88041707  0.82540804  0.83035154]  mean = 0.8453922156993051\n",
      "\n",
      "Fold: 3  NeighborNumber: 1 = [ 0.81500489  0.74102846  0.73626805]  mean = 0.7641004643768753\n",
      "Fold: 3  NeighborNumber: 2 = [ 0.81573803  0.74550115  0.75188324]  mean = 0.771040805151734\n",
      "Fold: 3  NeighborNumber: 3 = [ 0.82005539  0.73535258  0.75274639]  mean = 0.7693847891056445\n",
      "Fold: 3  NeighborNumber: 4 = [ 0.82268926  0.72214375  0.75944235]  mean = 0.7680917880176734\n",
      "Fold: 3  NeighborNumber: 5 = [ 0.81516781  0.72065286  0.75593743]  mean = 0.7639193659863729\n",
      "\n"
     ]
    }
   ],
   "source": [
    "def bestCVNeighbors(samples,folds,neighbors):\n",
    "    cIndexes = {}\n",
    "    for fold in folds:\n",
    "        for neighbor in neighbors:\n",
    "            cIndexes[fold,neighbor] = crossValidation(samples, fold, kNearestNeighbors, neighbor)\n",
    "            print (\"Fold: {}  NeighborNumber: {} = {}  mean = {}\".format(fold,neighbor,cIndexes[fold,neighbor],np.array(cIndexes[fold,neighbor]).mean()))\n",
    "            \n",
    "        print (\"\")\n",
    "        \n",
    "bestCVNeighbors (samples,[1,3],[1,2,3,4,5])          "
   ]
  },
  {
   "cell_type": "code",
   "execution_count": 35,
   "metadata": {},
   "outputs": [
    {
     "name": "stdout",
     "output_type": "stream",
     "text": [
      "MaxFold: 1 C-index: 0.888537737499\n",
      "MinFold: 128 C-index: 0.35303614108\n"
     ]
    }
   ],
   "source": [
    "\"\"\"\n",
    "Which crossValidation gives the best Accuracy.\n",
    "\"\"\"\n",
    "folds_cIndexesMeans = {}\n",
    "for fold in range(1,len(samples)-1):\n",
    "    cIndexesMean = crossValidation(samples, fold, kNearestNeighbors).mean()\n",
    "    folds_cIndexesMeans[fold] = cIndexesMean\n",
    "\n",
    "maxFold = max(folds_cIndexesMeans, key=folds_cIndexesMeans.get)   \n",
    "minFold = min(folds_cIndexesMeans, key=folds_cIndexesMeans.get)  \n",
    "\n",
    "print (\"MaxFold: \" + str(maxFold) + \" C-index: \" + str(folds_cIndexesMeans[maxFold]))\n",
    "print (\"MinFold: \" + str(minFold) + \" C-index: \" + str(folds_cIndexesMeans[minFold]))"
   ]
  },
  {
   "cell_type": "code",
   "execution_count": 36,
   "metadata": {},
   "outputs": [
    {
     "name": "stdout",
     "output_type": "stream",
     "text": [
      "Leave-One-Out Cross Validation \n",
      "NeighborNumber: 1 C-index: 0.893540174644\n",
      "NeighborNumber: 128 C-index: 0.154174917471\n",
      "Leave-Three-Out Cross Validation\n",
      "NeighborNumber: 1 C-index: 0.771040805152\n",
      "NeighborNumber: 128 C-index: 0.113521972249\n"
     ]
    }
   ],
   "source": [
    "\"\"\"\n",
    "Which k-neighbor gives the best Accuracy.\n",
    "\"\"\"\n",
    "def cvBestNeighbor(samples,foldSize):\n",
    "    neighbor_cIndexesMeans = {}\n",
    "    for neighbor in range(1,len(samples)-foldSize):\n",
    "        cIndexesMean = crossValidation(samples, foldSize, kNearestNeighbors, neighbor).mean()\n",
    "        neighbor_cIndexesMeans[neighbor] = cIndexesMean\n",
    "\n",
    "    maxNeighbor = max(neighbor_cIndexesMeans, key=neighbor_cIndexesMeans.get)   \n",
    "    minNeighbor = min(neighbor_cIndexesMeans, key=neighbor_cIndexesMeans.get)  \n",
    "\n",
    "    print (\"NeighborNumber: \" + str(maxFold) + \" C-index: \" + str(neighbor_cIndexesMeans[maxNeighbor]))\n",
    "    print (\"NeighborNumber: \" + str(minFold) + \" C-index: \" + str(neighbor_cIndexesMeans[minNeighbor]))\n",
    "\n",
    "print(\"Leave-One-Out Cross Validation\")\n",
    "cvBestNeighbor(samples,1)\n",
    "print(\"Leave-Three-Out Cross Validation\")\n",
    "cvBestNeighbor(samples,3)"
   ]
  },
  {
   "cell_type": "markdown",
   "metadata": {},
   "source": [
    "#  which evaluation approach generalize better? Why? \n",
    "\n",
    "Leave-One-Out Cross Validation\n",
    "<pre>\n",
    "Fold: 1  NeighborNumber: 1 = [ 0.89866406  0.90058067  0.86636849]  mean = 0.8885377374989184\n",
    "Fold: 1  NeighborNumber: 2 = [ 0.90561529  0.90262084  0.87238439]  mean = 0.8935401746439958\n",
    "Fold: 1  NeighborNumber: 3 = [ 0.90360595  0.87769408  0.84947165]  mean = 0.87692389234671\n",
    "Fold: 1  NeighborNumber: 4 = [ 0.89195721  0.85159029  0.84507742]  mean = 0.8628749731279953\n",
    "Fold: 1  NeighborNumber: 5 = [ 0.88041707  0.82540804  0.83035154]  mean = 0.8453922156993051\n",
    "</pre>\n",
    "Leave-Three-Out Cross Validation\n",
    "<pre>\n",
    "Fold: 3  NeighborNumber: 1 = [ 0.81500489  0.74102846  0.73626805]  mean = 0.7641004643768753\n",
    "Fold: 3  NeighborNumber: 2 = [ 0.81573803  0.74550115  0.75188324]  mean = 0.771040805151734\n",
    "Fold: 3  NeighborNumber: 3 = [ 0.82005539  0.73535258  0.75274639]  mean = 0.7693847891056445\n",
    "Fold: 3  NeighborNumber: 4 = [ 0.82268926  0.72214375  0.75944235]  mean = 0.7680917880176734\n",
    "Fold: 3  NeighborNumber: 5 = [ 0.81516781  0.72065286  0.75593743]  mean = 0.7639193659863729\n",
    "</pre>\n",
    "As it can seem, the Leave-One-Out Cross Validation got better c-index than Leave-Three-Out Cross Validation.\n",
    "\n",
    "The reason why the Leave-One-Out got better C-index is because there are replicas in our data.\n",
    "Every 3 samples correspond to the same mixture, so we are biased using the Leave-one out CV.\n",
    "The correct way of doing it is using Leave-Three-Out.\n",
    "\n",
    "For this reason, Leave-Three-Out generalizes better than Leave-One-Out in this case of study."
   ]
  }
 ],
 "metadata": {
  "kernelspec": {
   "display_name": "Python 3",
   "language": "python",
   "name": "python3"
  },
  "language_info": {
   "codemirror_mode": {
    "name": "ipython",
    "version": 3
   },
   "file_extension": ".py",
   "mimetype": "text/x-python",
   "name": "python",
   "nbconvert_exporter": "python",
   "pygments_lexer": "ipython3",
   "version": "3.6.1"
  }
 },
 "nbformat": 4,
 "nbformat_minor": 2
}
